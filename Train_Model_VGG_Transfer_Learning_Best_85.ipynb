{
  "nbformat": 4,
  "nbformat_minor": 0,
  "metadata": {
    "colab": {
      "name": "Train_Model_VGG_Transfer_Learning_Best_85.ipynb",
      "provenance": [],
      "collapsed_sections": [],
      "machine_shape": "hm"
    },
    "kernelspec": {
      "name": "python3",
      "display_name": "Python 3"
    },
    "language_info": {
      "name": "python"
    },
    "accelerator": "GPU",
    "widgets": {
      "application/vnd.jupyter.widget-state+json": {
        "c8a52a58d1904d73b97f3e4108d0d504": {
          "model_module": "@jupyter-widgets/controls",
          "model_name": "HBoxModel",
          "model_module_version": "1.5.0",
          "state": {
            "_view_name": "HBoxView",
            "_dom_classes": [],
            "_model_name": "HBoxModel",
            "_view_module": "@jupyter-widgets/controls",
            "_model_module_version": "1.5.0",
            "_view_count": null,
            "_view_module_version": "1.5.0",
            "box_style": "",
            "layout": "IPY_MODEL_f435afebdf8943158d008dda41bc853e",
            "_model_module": "@jupyter-widgets/controls",
            "children": [
              "IPY_MODEL_81c001d6da124bb1b8da299749214ef8",
              "IPY_MODEL_2017fbefc9cc41e081d1d4e2716e3a39",
              "IPY_MODEL_f45f724492b54d00b54956408db951db"
            ]
          }
        },
        "f435afebdf8943158d008dda41bc853e": {
          "model_module": "@jupyter-widgets/base",
          "model_name": "LayoutModel",
          "model_module_version": "1.2.0",
          "state": {
            "_view_name": "LayoutView",
            "grid_template_rows": null,
            "right": null,
            "justify_content": null,
            "_view_module": "@jupyter-widgets/base",
            "overflow": null,
            "_model_module_version": "1.2.0",
            "_view_count": null,
            "flex_flow": null,
            "width": null,
            "min_width": null,
            "border": null,
            "align_items": null,
            "bottom": null,
            "_model_module": "@jupyter-widgets/base",
            "top": null,
            "grid_column": null,
            "overflow_y": null,
            "overflow_x": null,
            "grid_auto_flow": null,
            "grid_area": null,
            "grid_template_columns": null,
            "flex": null,
            "_model_name": "LayoutModel",
            "justify_items": null,
            "grid_row": null,
            "max_height": null,
            "align_content": null,
            "visibility": null,
            "align_self": null,
            "height": null,
            "min_height": null,
            "padding": null,
            "grid_auto_rows": null,
            "grid_gap": null,
            "max_width": null,
            "order": null,
            "_view_module_version": "1.2.0",
            "grid_template_areas": null,
            "object_position": null,
            "object_fit": null,
            "grid_auto_columns": null,
            "margin": null,
            "display": null,
            "left": null
          }
        },
        "81c001d6da124bb1b8da299749214ef8": {
          "model_module": "@jupyter-widgets/controls",
          "model_name": "HTMLModel",
          "model_module_version": "1.5.0",
          "state": {
            "_view_name": "HTMLView",
            "style": "IPY_MODEL_fa3e76d1e76742d2be28bfee32edb835",
            "_dom_classes": [],
            "description": "",
            "_model_name": "HTMLModel",
            "placeholder": "​",
            "_view_module": "@jupyter-widgets/controls",
            "_model_module_version": "1.5.0",
            "value": "100%",
            "_view_count": null,
            "_view_module_version": "1.5.0",
            "description_tooltip": null,
            "_model_module": "@jupyter-widgets/controls",
            "layout": "IPY_MODEL_cd4cc1d6071e478ab79ee78f7d4d0601"
          }
        },
        "2017fbefc9cc41e081d1d4e2716e3a39": {
          "model_module": "@jupyter-widgets/controls",
          "model_name": "FloatProgressModel",
          "model_module_version": "1.5.0",
          "state": {
            "_view_name": "ProgressView",
            "style": "IPY_MODEL_e299a82d974944bab67ec1858e9ee3ef",
            "_dom_classes": [],
            "description": "",
            "_model_name": "FloatProgressModel",
            "bar_style": "success",
            "max": 553433881,
            "_view_module": "@jupyter-widgets/controls",
            "_model_module_version": "1.5.0",
            "value": 553433881,
            "_view_count": null,
            "_view_module_version": "1.5.0",
            "orientation": "horizontal",
            "min": 0,
            "description_tooltip": null,
            "_model_module": "@jupyter-widgets/controls",
            "layout": "IPY_MODEL_6888975257134bcea1ae6152880231bd"
          }
        },
        "f45f724492b54d00b54956408db951db": {
          "model_module": "@jupyter-widgets/controls",
          "model_name": "HTMLModel",
          "model_module_version": "1.5.0",
          "state": {
            "_view_name": "HTMLView",
            "style": "IPY_MODEL_a30b117d5b78484da500586f58079d06",
            "_dom_classes": [],
            "description": "",
            "_model_name": "HTMLModel",
            "placeholder": "​",
            "_view_module": "@jupyter-widgets/controls",
            "_model_module_version": "1.5.0",
            "value": " 528M/528M [00:04&lt;00:00, 139MB/s]",
            "_view_count": null,
            "_view_module_version": "1.5.0",
            "description_tooltip": null,
            "_model_module": "@jupyter-widgets/controls",
            "layout": "IPY_MODEL_1ad7ab6364ec4e9cb393407869b8ee45"
          }
        },
        "fa3e76d1e76742d2be28bfee32edb835": {
          "model_module": "@jupyter-widgets/controls",
          "model_name": "DescriptionStyleModel",
          "model_module_version": "1.5.0",
          "state": {
            "_view_name": "StyleView",
            "_model_name": "DescriptionStyleModel",
            "description_width": "",
            "_view_module": "@jupyter-widgets/base",
            "_model_module_version": "1.5.0",
            "_view_count": null,
            "_view_module_version": "1.2.0",
            "_model_module": "@jupyter-widgets/controls"
          }
        },
        "cd4cc1d6071e478ab79ee78f7d4d0601": {
          "model_module": "@jupyter-widgets/base",
          "model_name": "LayoutModel",
          "model_module_version": "1.2.0",
          "state": {
            "_view_name": "LayoutView",
            "grid_template_rows": null,
            "right": null,
            "justify_content": null,
            "_view_module": "@jupyter-widgets/base",
            "overflow": null,
            "_model_module_version": "1.2.0",
            "_view_count": null,
            "flex_flow": null,
            "width": null,
            "min_width": null,
            "border": null,
            "align_items": null,
            "bottom": null,
            "_model_module": "@jupyter-widgets/base",
            "top": null,
            "grid_column": null,
            "overflow_y": null,
            "overflow_x": null,
            "grid_auto_flow": null,
            "grid_area": null,
            "grid_template_columns": null,
            "flex": null,
            "_model_name": "LayoutModel",
            "justify_items": null,
            "grid_row": null,
            "max_height": null,
            "align_content": null,
            "visibility": null,
            "align_self": null,
            "height": null,
            "min_height": null,
            "padding": null,
            "grid_auto_rows": null,
            "grid_gap": null,
            "max_width": null,
            "order": null,
            "_view_module_version": "1.2.0",
            "grid_template_areas": null,
            "object_position": null,
            "object_fit": null,
            "grid_auto_columns": null,
            "margin": null,
            "display": null,
            "left": null
          }
        },
        "e299a82d974944bab67ec1858e9ee3ef": {
          "model_module": "@jupyter-widgets/controls",
          "model_name": "ProgressStyleModel",
          "model_module_version": "1.5.0",
          "state": {
            "_view_name": "StyleView",
            "_model_name": "ProgressStyleModel",
            "description_width": "",
            "_view_module": "@jupyter-widgets/base",
            "_model_module_version": "1.5.0",
            "_view_count": null,
            "_view_module_version": "1.2.0",
            "bar_color": null,
            "_model_module": "@jupyter-widgets/controls"
          }
        },
        "6888975257134bcea1ae6152880231bd": {
          "model_module": "@jupyter-widgets/base",
          "model_name": "LayoutModel",
          "model_module_version": "1.2.0",
          "state": {
            "_view_name": "LayoutView",
            "grid_template_rows": null,
            "right": null,
            "justify_content": null,
            "_view_module": "@jupyter-widgets/base",
            "overflow": null,
            "_model_module_version": "1.2.0",
            "_view_count": null,
            "flex_flow": null,
            "width": null,
            "min_width": null,
            "border": null,
            "align_items": null,
            "bottom": null,
            "_model_module": "@jupyter-widgets/base",
            "top": null,
            "grid_column": null,
            "overflow_y": null,
            "overflow_x": null,
            "grid_auto_flow": null,
            "grid_area": null,
            "grid_template_columns": null,
            "flex": null,
            "_model_name": "LayoutModel",
            "justify_items": null,
            "grid_row": null,
            "max_height": null,
            "align_content": null,
            "visibility": null,
            "align_self": null,
            "height": null,
            "min_height": null,
            "padding": null,
            "grid_auto_rows": null,
            "grid_gap": null,
            "max_width": null,
            "order": null,
            "_view_module_version": "1.2.0",
            "grid_template_areas": null,
            "object_position": null,
            "object_fit": null,
            "grid_auto_columns": null,
            "margin": null,
            "display": null,
            "left": null
          }
        },
        "a30b117d5b78484da500586f58079d06": {
          "model_module": "@jupyter-widgets/controls",
          "model_name": "DescriptionStyleModel",
          "model_module_version": "1.5.0",
          "state": {
            "_view_name": "StyleView",
            "_model_name": "DescriptionStyleModel",
            "description_width": "",
            "_view_module": "@jupyter-widgets/base",
            "_model_module_version": "1.5.0",
            "_view_count": null,
            "_view_module_version": "1.2.0",
            "_model_module": "@jupyter-widgets/controls"
          }
        },
        "1ad7ab6364ec4e9cb393407869b8ee45": {
          "model_module": "@jupyter-widgets/base",
          "model_name": "LayoutModel",
          "model_module_version": "1.2.0",
          "state": {
            "_view_name": "LayoutView",
            "grid_template_rows": null,
            "right": null,
            "justify_content": null,
            "_view_module": "@jupyter-widgets/base",
            "overflow": null,
            "_model_module_version": "1.2.0",
            "_view_count": null,
            "flex_flow": null,
            "width": null,
            "min_width": null,
            "border": null,
            "align_items": null,
            "bottom": null,
            "_model_module": "@jupyter-widgets/base",
            "top": null,
            "grid_column": null,
            "overflow_y": null,
            "overflow_x": null,
            "grid_auto_flow": null,
            "grid_area": null,
            "grid_template_columns": null,
            "flex": null,
            "_model_name": "LayoutModel",
            "justify_items": null,
            "grid_row": null,
            "max_height": null,
            "align_content": null,
            "visibility": null,
            "align_self": null,
            "height": null,
            "min_height": null,
            "padding": null,
            "grid_auto_rows": null,
            "grid_gap": null,
            "max_width": null,
            "order": null,
            "_view_module_version": "1.2.0",
            "grid_template_areas": null,
            "object_position": null,
            "object_fit": null,
            "grid_auto_columns": null,
            "margin": null,
            "display": null,
            "left": null
          }
        }
      }
    }
  },
  "cells": [
    {
      "cell_type": "code",
      "metadata": {
        "id": "CtkwToMO92js",
        "colab": {
          "base_uri": "https://localhost:8080/"
        },
        "outputId": "de345f34-1791-425f-ef1f-f56b1c8ca70d"
      },
      "source": [
        "import os\n",
        "import numpy as np\n",
        "import pandas as pd\n",
        "from datetime import datetime\n",
        "\n",
        "import matplotlib.pyplot as plt\n",
        "\n",
        "import torch\n",
        "import torch.nn as nn\n",
        "from torch.utils.data import Dataset\n",
        "from torch.utils.data import DataLoader\n",
        "import torchvision.transforms as T\n",
        "import torch.nn as nn\n",
        "import torch.nn.functional as F\n",
        "import torchvision\n",
        "import pickle\n",
        "import librosa\n",
        "import librosa.display\n",
        "import IPython.display\n",
        "import warnings\n",
        "warnings.filterwarnings(action='ignore')\n",
        "\n",
        "from google.colab import drive\n",
        "drive.mount('/content/G')"
      ],
      "execution_count": 33,
      "outputs": [
        {
          "output_type": "stream",
          "name": "stdout",
          "text": [
            "Drive already mounted at /content/G; to attempt to forcibly remount, call drive.mount(\"/content/G\", force_remount=True).\n"
          ]
        }
      ]
    },
    {
      "cell_type": "code",
      "metadata": {
        "id": "5d5G2lsigvtA"
      },
      "source": [
        "# audio_file = \"/content/G/MyDrive/VED/EMO-DB/wav/03a01Fa.wav\"\n",
        "# signal, _ = librosa.load(audio_file, sr=22050)\n",
        "# signal = np.pad(signal, 10000, 'symmetric')\n",
        "# IPython.display.display(IPython.display.Audio(signal, rate=22050))\n",
        "# librosa.display.waveplot(signal,22050)"
      ],
      "execution_count": 34,
      "outputs": []
    },
    {
      "cell_type": "code",
      "metadata": {
        "id": "sbDG0wK3EB16"
      },
      "source": [
        "def get_abs_subdir_files(path_to_folder):\n",
        "\n",
        "    filelist = []\n",
        "    for root, dirs, files in os.walk(path_to_folder):\n",
        "        for file in files:\n",
        "            filelist.append(os.path.join(root,file))\n",
        "\n",
        "    return filelist\n",
        "\n",
        "\n",
        "def remove_silent_space(signal, sr=22050, threshold=0.0005):\n",
        "    mask = []\n",
        "    signal_abs = pd.Series(signal).apply(np.abs)\n",
        "    signal_mean = signal_abs.rolling(window = int(sr/10), min_periods = 1, center = True).mean()\n",
        "    for mean in signal_mean:\n",
        "        if mean > threshold:\n",
        "            mask.append(True)\n",
        "        else:\n",
        "            mask.append(False)\n",
        "    return np.array(signal[mask])\n",
        "\n",
        "\n",
        "\n",
        "def sort_audio_waves(files):\n",
        "    signals = []\n",
        "    for audio in files:\n",
        "        signal, _ = librosa.load(audio, sr=22050)\n",
        "        signals.append([audio,signal.shape[0]])\n",
        "    signals_sorted = sorted(signals, key=lambda x: x[1])\n",
        "    files_sorted = [item[0 ]for item in  signals_sorted]  \n",
        "\n",
        "    return files_sorted\n",
        "\n",
        "\n",
        "\n",
        "def get_label(file):\n",
        "\n",
        "    emotion_mappings  = {\n",
        "                            \"A\" : 0,\n",
        "                            \"T\" : 1,\n",
        "                            \"E\" : 2,\n",
        "                            \"W\" : 3,\n",
        "                            \"L\" : 4,\n",
        "                            \"N\" : 5,\n",
        "                            \"F\" : 6\n",
        "                        }\n",
        "\n",
        "    return emotion_mappings[file[-6:-5]]\n",
        "\n",
        "\n",
        "def get_voice_features(, sample_rate=22050, n_fft = 2048, hop_length = 512, n_mfcc = 13):\n",
        "    \"\"\"\n",
        "    Creates (3, X, 166) feaures matrix from audio wave signal\n",
        "    `X` varies between 50 and 700 depending on audio signal size\n",
        "    \"\"\"\n",
        "\n",
        "    voice_features = []\n",
        "\n",
        "    voice_features.append(librosa.feature.mfcc(signal, sr=sample_rate, n_fft = n_fft, hop_length=hop_length, n_mfcc=n_mfcc))\n",
        "    voice_features.append(librosa.feature.melspectrogram(signal, sr=sample_rate, n_fft = n_fft, hop_length=hop_length))\n",
        "    voice_features.append(librosa.feature.chroma_stft(signal, sr=sample_rate, n_fft = n_fft, hop_length=hop_length))\n",
        "    voice_features.append(librosa.feature.spectral_contrast(signal, sr=sample_rate, n_fft = n_fft, hop_length=hop_length))\n",
        "    voice_features.append(librosa.feature.tonnetz(signal, sr=sample_rate, hop_length=hop_length))\n",
        "\n",
        "\n",
        "    image_width = voice_features[0].shape[1]\n",
        "\n",
        "    image_height = 0\n",
        "    for v_feat in voice_features:\n",
        "        image_height += v_feat.shape[0]\n",
        "\n",
        "\n",
        "    start_index = 0\n",
        "    feature = np.zeros((image_height, image_width))\n",
        "    for v_feat in voice_features:\n",
        "        feature[start_index: start_index + v_feat.shape[0], :] = v_feat\n",
        "        start_index += v_feat.shape[0]\n",
        "\n",
        "\n",
        "    feature3d = np.zeros((3, image_width, image_height))\n",
        "\n",
        "    feature_db = librosa.amplitude_to_db(feature)\n",
        "    feature_delta = librosa.feature.delta(feature)\n",
        "\n",
        "    feature3d[0,:,:] = librosa.util.normalize(feature.T)\n",
        "    feature3d[1,:,:] = librosa.util.normalize(feature.T)\n",
        "    feature3d[2,:,:] = librosa.util.normalize(feature.T)\n",
        "\n",
        "\n",
        "    return (feature3d)"
      ],
      "execution_count": 35,
      "outputs": []
    },
    {
      "cell_type": "code",
      "metadata": {
        "id": "cR4D3B6xIm4q"
      },
      "source": [
        "transformer_train = torchvision.transforms.Compose([\n",
        "  T.ToPILImage(),\n",
        "#   T.ColorJitter(brightness=0.2, contrast=0.2, saturation=0.2, hue=0.2),\n",
        "#   T.GaussianBlur(kernel_size=(5, 9), sigma=(0.1, 5))\n",
        "#   T.RandomHorizontalFlip(p=0.5), \n",
        "  T.ToTensor()\n",
        "#   T.Normalize([0.485, 0.456, 0.406], [0.229, 0.224, 0.225])                           \n",
        "])\n",
        "\n",
        "\n",
        "\n",
        "def collate_batch_with_transformation(batch):\n",
        "\n",
        "    max_signal_size = max([signal.shape[0] for (signal, label) in batch])\n",
        "    \n",
        "    signals = []\n",
        "    labels = []\n",
        "    for (signal, label) in batch:\n",
        "        signals.append(\n",
        "                        np.pad(\n",
        "                                signal,\n",
        "                                int(np.ceil((max_signal_size-signal.shape[0])/2)), \n",
        "                                mode=\"reflect\"\n",
        "                                )[:max_signal_size-10]  \n",
        "                      ) \n",
        "        labels.append(label)\n",
        "\n",
        "    voice_features = []\n",
        "    for signal in signals:\n",
        "\n",
        "        feat3d = get_voice_features(signal)\n",
        "        feat3d = torch.from_numpy(feat3d)\n",
        "        feat3d_transformered = transformer_train(feat3d)\n",
        "\n",
        "        voice_features.append(feat3d_transformered)\n",
        "\n",
        "    voice_features = torch.stack(voice_features)\n",
        "\n",
        "    labels = np.array(labels)\n",
        "    labels = torch.from_numpy(labels)\n",
        "\n",
        "    return voice_features, labels\n",
        "\n",
        "\n",
        "\n",
        "def collate_batch(batch):\n",
        "\n",
        "    max_signal_size = max([signal.shape[0] for (signal, label) in batch])\n",
        "    \n",
        "    signals = []\n",
        "    labels = []\n",
        "    for (signal, label) in batch:\n",
        "        signals.append(\n",
        "                        np.pad(\n",
        "                                signal,\n",
        "                                int(np.ceil((max_signal_size-signal.shape[0])/2)), \n",
        "                                mode=\"reflect\"\n",
        "                                )[:max_signal_size-10]  \n",
        "                      ) \n",
        "        labels.append(label)\n",
        "\n",
        "    voice_features = []\n",
        "    for signal in signals:\n",
        "        voice_features.append(get_voice_features(signal))\n",
        "\n",
        "    voice_features = np.array(voice_features)\n",
        "    voice_features = torch.from_numpy(voice_features.astype(np.float32))\n",
        "\n",
        "    labels = np.array(labels)\n",
        "    labels = torch.from_numpy(labels)\n",
        "\n",
        "    return voice_features, labels\n",
        "\n",
        "\n",
        "\n",
        "class EMODB_Dataset(Dataset):\n",
        "\n",
        "    def __init__(self, path_to_audio_waves,  sort_data=False, sample_rate=22050):\n",
        "\n",
        "        self.audio_waves = sort_audio_waves(get_abs_subdir_files(path_to_audio_waves))\n",
        "        self.sample_rate = sample_rate\n",
        "\n",
        "        if sort_data:\n",
        "            self.audio_waves = sort_audio_waves(self.audio_waves)\n",
        "\n",
        "\n",
        "    def __len__(self):\n",
        "        return len(self.audio_waves)\n",
        "\n",
        "    def __getitem__(self, idx):\n",
        "\n",
        "        audio_file = self.audio_waves[idx]\n",
        "        signal, sr = librosa.load(audio_file, sr=self.sample_rate)\n",
        "        signal = remove_silent_space(signal, sr=sr)\n",
        "        \n",
        "        label = get_label(audio_file)\n",
        "\n",
        "        return signal, label\n"
      ],
      "execution_count": 36,
      "outputs": []
    },
    {
      "cell_type": "code",
      "metadata": {
        "id": "xvJ24v6YJRCX"
      },
      "source": [
        "path_to_train_dataset = \"/content/G/MyDrive/VED/EMO-DB-CLASSIFIED-0.3/train/\"\n",
        "path_to_test_dataset = \"/content/G/MyDrive/VED/EMO-DB-CLASSIFIED-0.3/test/\"\n",
        "\n",
        "training_data = EMODB_Dataset(path_to_train_dataset)\n",
        "test_data = EMODB_Dataset(path_to_test_dataset)\n",
        "\n",
        "train_loader = DataLoader(training_data, batch_size=16, shuffle=True, collate_fn=collate_batch)\n",
        "test_loader = DataLoader(test_data, batch_size=16, shuffle=True, collate_fn=collate_batch)"
      ],
      "execution_count": 37,
      "outputs": []
    },
    {
      "cell_type": "code",
      "metadata": {
        "colab": {
          "base_uri": "https://localhost:8080/"
        },
        "id": "m3HYzOuYgQXh",
        "outputId": "52bf03b4-309f-44b3-f189-8d8abd406466"
      },
      "source": [
        "for item in train_loader:\n",
        "    print (item[0].shape)\n",
        "    break"
      ],
      "execution_count": 38,
      "outputs": [
        {
          "output_type": "stream",
          "name": "stdout",
          "text": [
            "torch.Size([16, 3, 387, 166])\n"
          ]
        }
      ]
    },
    {
      "cell_type": "markdown",
      "metadata": {
        "id": "6SU5nMueUCOk"
      },
      "source": [
        "#VGG16 Transfer Learning"
      ]
    },
    {
      "cell_type": "code",
      "metadata": {
        "colab": {
          "base_uri": "https://localhost:8080/",
          "height": 867,
          "referenced_widgets": [
            "c8a52a58d1904d73b97f3e4108d0d504",
            "f435afebdf8943158d008dda41bc853e",
            "81c001d6da124bb1b8da299749214ef8",
            "2017fbefc9cc41e081d1d4e2716e3a39",
            "f45f724492b54d00b54956408db951db",
            "fa3e76d1e76742d2be28bfee32edb835",
            "cd4cc1d6071e478ab79ee78f7d4d0601",
            "e299a82d974944bab67ec1858e9ee3ef",
            "6888975257134bcea1ae6152880231bd",
            "a30b117d5b78484da500586f58079d06",
            "1ad7ab6364ec4e9cb393407869b8ee45"
          ]
        },
        "id": "5fabV3TNTHDc",
        "outputId": "5b50d34a-5700-4d75-e8f2-3711e738e268"
      },
      "source": [
        "# Define transfer learning model\n",
        "\n",
        "model = torchvision.models.vgg16(pretrained=True)\n",
        "\n",
        "for param in model.parameters():\n",
        "    param.required_grad = False\n",
        "\n",
        "\n",
        "classifier = nn.Sequential(\n",
        "                            nn.Linear(25088, 4096),\n",
        "                            nn.ReLU(True),\n",
        "                            nn.Dropout(),\n",
        "                            nn.Linear(4096, 4096),\n",
        "                            nn.ReLU(True),\n",
        "                            nn.Dropout(),\n",
        "                            nn.Linear(4096, 7)\n",
        "                        )\n",
        "\n",
        "model.classifier = classifier\n",
        "\n",
        "model"
      ],
      "execution_count": 39,
      "outputs": [
        {
          "output_type": "stream",
          "name": "stderr",
          "text": [
            "Downloading: \"https://download.pytorch.org/models/vgg16-397923af.pth\" to /root/.cache/torch/hub/checkpoints/vgg16-397923af.pth\n"
          ]
        },
        {
          "output_type": "display_data",
          "data": {
            "application/vnd.jupyter.widget-view+json": {
              "model_id": "c8a52a58d1904d73b97f3e4108d0d504",
              "version_minor": 0,
              "version_major": 2
            },
            "text/plain": [
              "  0%|          | 0.00/528M [00:00<?, ?B/s]"
            ]
          },
          "metadata": {}
        },
        {
          "output_type": "execute_result",
          "data": {
            "text/plain": [
              "VGG(\n",
              "  (features): Sequential(\n",
              "    (0): Conv2d(3, 64, kernel_size=(3, 3), stride=(1, 1), padding=(1, 1))\n",
              "    (1): ReLU(inplace=True)\n",
              "    (2): Conv2d(64, 64, kernel_size=(3, 3), stride=(1, 1), padding=(1, 1))\n",
              "    (3): ReLU(inplace=True)\n",
              "    (4): MaxPool2d(kernel_size=2, stride=2, padding=0, dilation=1, ceil_mode=False)\n",
              "    (5): Conv2d(64, 128, kernel_size=(3, 3), stride=(1, 1), padding=(1, 1))\n",
              "    (6): ReLU(inplace=True)\n",
              "    (7): Conv2d(128, 128, kernel_size=(3, 3), stride=(1, 1), padding=(1, 1))\n",
              "    (8): ReLU(inplace=True)\n",
              "    (9): MaxPool2d(kernel_size=2, stride=2, padding=0, dilation=1, ceil_mode=False)\n",
              "    (10): Conv2d(128, 256, kernel_size=(3, 3), stride=(1, 1), padding=(1, 1))\n",
              "    (11): ReLU(inplace=True)\n",
              "    (12): Conv2d(256, 256, kernel_size=(3, 3), stride=(1, 1), padding=(1, 1))\n",
              "    (13): ReLU(inplace=True)\n",
              "    (14): Conv2d(256, 256, kernel_size=(3, 3), stride=(1, 1), padding=(1, 1))\n",
              "    (15): ReLU(inplace=True)\n",
              "    (16): MaxPool2d(kernel_size=2, stride=2, padding=0, dilation=1, ceil_mode=False)\n",
              "    (17): Conv2d(256, 512, kernel_size=(3, 3), stride=(1, 1), padding=(1, 1))\n",
              "    (18): ReLU(inplace=True)\n",
              "    (19): Conv2d(512, 512, kernel_size=(3, 3), stride=(1, 1), padding=(1, 1))\n",
              "    (20): ReLU(inplace=True)\n",
              "    (21): Conv2d(512, 512, kernel_size=(3, 3), stride=(1, 1), padding=(1, 1))\n",
              "    (22): ReLU(inplace=True)\n",
              "    (23): MaxPool2d(kernel_size=2, stride=2, padding=0, dilation=1, ceil_mode=False)\n",
              "    (24): Conv2d(512, 512, kernel_size=(3, 3), stride=(1, 1), padding=(1, 1))\n",
              "    (25): ReLU(inplace=True)\n",
              "    (26): Conv2d(512, 512, kernel_size=(3, 3), stride=(1, 1), padding=(1, 1))\n",
              "    (27): ReLU(inplace=True)\n",
              "    (28): Conv2d(512, 512, kernel_size=(3, 3), stride=(1, 1), padding=(1, 1))\n",
              "    (29): ReLU(inplace=True)\n",
              "    (30): MaxPool2d(kernel_size=2, stride=2, padding=0, dilation=1, ceil_mode=False)\n",
              "  )\n",
              "  (avgpool): AdaptiveAvgPool2d(output_size=(7, 7))\n",
              "  (classifier): Sequential(\n",
              "    (0): Linear(in_features=25088, out_features=4096, bias=True)\n",
              "    (1): ReLU(inplace=True)\n",
              "    (2): Dropout(p=0.5, inplace=False)\n",
              "    (3): Linear(in_features=4096, out_features=4096, bias=True)\n",
              "    (4): ReLU(inplace=True)\n",
              "    (5): Dropout(p=0.5, inplace=False)\n",
              "    (6): Linear(in_features=4096, out_features=7, bias=True)\n",
              "  )\n",
              ")"
            ]
          },
          "metadata": {},
          "execution_count": 39
        }
      ]
    },
    {
      "cell_type": "code",
      "metadata": {
        "id": "n6N0nA6WZgsX"
      },
      "source": [
        "def get_test_dataset_accuracy(test_loader, device=\"cuda:0\"):\n",
        "    \n",
        "    n_correct = 0.\n",
        "    n_total = 0.\n",
        "\n",
        "    for inputs, targets in test_loader:\n",
        "\n",
        "        inputs, targets = inputs.to(device), targets.to(device)\n",
        "        outputs = model(inputs)\n",
        "        _, predictions = torch.max(outputs, 1)\n",
        "        n_correct += (predictions == targets).sum().item()\n",
        "        n_total += targets.shape[0]\n",
        "\n",
        "    return n_correct / n_total"
      ],
      "execution_count": 40,
      "outputs": []
    },
    {
      "cell_type": "code",
      "metadata": {
        "id": "m4_iIGkzTVif"
      },
      "source": [
        "#https://www.sciencedirect.com/science/article/pii/S2405959519303455\n",
        "\n",
        "device = torch.device(\"cuda:0\" if torch.cuda.is_available() else \"cpu\")\n",
        "model.to(device)\n",
        "\n",
        "criterion = nn.CrossEntropyLoss()\n",
        "optimizer = torch.optim.Adam(model.parameters(), lr=0.00001)\n",
        "\n",
        "# optimizer = torch.optim.RMSprop(model.parameters(), lr=0.000001)"
      ],
      "execution_count": 41,
      "outputs": []
    },
    {
      "cell_type": "code",
      "metadata": {
        "id": "pEqLeyxFUp8t"
      },
      "source": [
        "# A function to encapsulate the training loop\n",
        "def batch_gd(model, criterion, optimizer, train_loader, test_loader, epochs):\n",
        "  train_losses = np.zeros(epochs)\n",
        "  test_losses = np.zeros(epochs)\n",
        "\n",
        "  for it in range(epochs):\n",
        "    model.train()\n",
        "    t0 = datetime.now()\n",
        "    train_loss = []\n",
        "    for inputs, targets in train_loader:\n",
        "      # move data to GPU\n",
        "      inputs, targets = inputs.to(device), targets.to(device)\n",
        "\n",
        "      # print(\"inputs.shape:\", inputs.shape)\n",
        "\n",
        "      # zero the parameter gradients\n",
        "      optimizer.zero_grad()\n",
        "\n",
        "      # Forward pass\n",
        "      # print(\"about to get model output\")\n",
        "      outputs = model(inputs)\n",
        "      # print(\"done getting model output\")\n",
        "      # print(\"outputs.shape:\", outputs.shape, \"targets.shape:\", targets.shape)\n",
        "      loss = criterion(outputs, targets)\n",
        "        \n",
        "      # Backward and optimize\n",
        "      # print(\"about to optimize\")\n",
        "      loss.backward()\n",
        "      optimizer.step()\n",
        "\n",
        "      train_loss.append(loss.item())\n",
        "\n",
        "    # Get train loss and test loss\n",
        "    train_loss = np.mean(train_loss) # a little misleading\n",
        "    \n",
        "    model.eval()\n",
        "    test_loss = []\n",
        "    for inputs, targets in test_loader:\n",
        "      inputs, targets = inputs.to(device), targets.to(device)\n",
        "      outputs = model(inputs)\n",
        "      loss = criterion(outputs, targets)\n",
        "      test_loss.append(loss.item())\n",
        "    test_loss = np.mean(test_loss)\n",
        "    \n",
        "\n",
        "    # Save losses\n",
        "    train_losses[it] = train_loss\n",
        "    test_losses[it] = test_loss\n",
        "    \n",
        "    dt = datetime.now() - t0\n",
        "\n",
        "    accuracy_test = get_test_dataset_accuracy(test_loader, device=\"cuda:0\")\n",
        "\n",
        "    print(f'Epoch {it+1}/{epochs}, Train Loss: {train_loss:.4f}, \\\n",
        "      Test Loss: {test_loss:.4f}, accuracy: {accuracy_test:.4f} Duration: {dt}')\n",
        "  \n",
        "  return train_losses, test_losses"
      ],
      "execution_count": 42,
      "outputs": []
    },
    {
      "cell_type": "code",
      "metadata": {
        "id": "MiRIGxvdSyB6"
      },
      "source": [
        "dfv                                                                                                 "
      ],
      "execution_count": null,
      "outputs": []
    },
    {
      "cell_type": "code",
      "metadata": {
        "id": "mPeqkYzIUtVt",
        "colab": {
          "base_uri": "https://localhost:8080/"
        },
        "outputId": "04a2ba82-6de0-44b4-9972-485d6de18bc7"
      },
      "source": [
        "train_losses, test_losses = batch_gd(\n",
        "    model, criterion, optimizer, train_loader, test_loader, epochs=30)"
      ],
      "execution_count": 43,
      "outputs": [
        {
          "output_type": "stream",
          "name": "stdout",
          "text": [
            "Epoch 1/30, Train Loss: 1.8825,       Test Loss: 1.7461, accuracy: 0.2452 Duration: 0:03:51.304148\n",
            "Epoch 2/30, Train Loss: 1.6220,       Test Loss: 1.3132, accuracy: 0.5484 Duration: 0:03:50.627890\n",
            "Epoch 3/30, Train Loss: 1.2426,       Test Loss: 1.0449, accuracy: 0.5935 Duration: 0:03:50.680559\n",
            "Epoch 4/30, Train Loss: 0.9382,       Test Loss: 0.9281, accuracy: 0.6581 Duration: 0:03:49.808685\n",
            "Epoch 5/30, Train Loss: 0.8453,       Test Loss: 1.0172, accuracy: 0.6194 Duration: 0:03:50.400814\n",
            "Epoch 6/30, Train Loss: 0.7519,       Test Loss: 0.7735, accuracy: 0.6516 Duration: 0:03:50.474882\n",
            "Epoch 7/30, Train Loss: 0.6084,       Test Loss: 0.7576, accuracy: 0.6903 Duration: 0:03:46.114418\n",
            "Epoch 8/30, Train Loss: 0.4887,       Test Loss: 0.7192, accuracy: 0.7032 Duration: 0:03:44.129790\n",
            "Epoch 9/30, Train Loss: 0.4052,       Test Loss: 0.7335, accuracy: 0.6968 Duration: 0:03:47.112241\n",
            "Epoch 10/30, Train Loss: 0.3184,       Test Loss: 0.8722, accuracy: 0.6774 Duration: 0:03:46.316301\n",
            "Epoch 11/30, Train Loss: 0.2547,       Test Loss: 0.8379, accuracy: 0.6645 Duration: 0:03:47.240324\n",
            "Epoch 12/30, Train Loss: 0.2213,       Test Loss: 0.8473, accuracy: 0.7226 Duration: 0:03:45.040265\n",
            "Epoch 13/30, Train Loss: 0.1640,       Test Loss: 0.7063, accuracy: 0.7806 Duration: 0:03:45.351616\n",
            "Epoch 14/30, Train Loss: 0.1893,       Test Loss: 0.9675, accuracy: 0.6968 Duration: 0:03:47.757265\n",
            "Epoch 15/30, Train Loss: 0.1677,       Test Loss: 0.6002, accuracy: 0.8065 Duration: 0:03:45.539492\n",
            "Epoch 16/30, Train Loss: 0.1323,       Test Loss: 0.9505, accuracy: 0.7226 Duration: 0:03:46.141873\n",
            "Epoch 17/30, Train Loss: 0.1182,       Test Loss: 0.8707, accuracy: 0.7097 Duration: 0:03:43.528026\n",
            "Epoch 18/30, Train Loss: 0.1097,       Test Loss: 0.7614, accuracy: 0.7806 Duration: 0:03:45.619297\n",
            "Epoch 19/30, Train Loss: 0.0964,       Test Loss: 0.7496, accuracy: 0.7419 Duration: 0:03:43.327566\n",
            "Epoch 20/30, Train Loss: 0.1363,       Test Loss: 0.7219, accuracy: 0.8000 Duration: 0:03:47.846078\n",
            "Epoch 21/30, Train Loss: 0.0677,       Test Loss: 0.6330, accuracy: 0.8516 Duration: 0:03:49.560704\n",
            "Epoch 22/30, Train Loss: 0.0343,       Test Loss: 0.6749, accuracy: 0.8194 Duration: 0:03:48.572800\n",
            "Epoch 23/30, Train Loss: 0.0239,       Test Loss: 0.6292, accuracy: 0.8129 Duration: 0:03:45.834797\n",
            "Epoch 24/30, Train Loss: 0.0224,       Test Loss: 0.6041, accuracy: 0.8194 Duration: 0:03:46.889778\n",
            "Epoch 25/30, Train Loss: 0.0173,       Test Loss: 0.7232, accuracy: 0.8194 Duration: 0:03:51.103207\n",
            "Epoch 26/30, Train Loss: 0.0650,       Test Loss: 0.9205, accuracy: 0.8129 Duration: 0:03:48.216952\n",
            "Epoch 27/30, Train Loss: 0.0438,       Test Loss: 0.6520, accuracy: 0.7935 Duration: 0:03:48.373401\n",
            "Epoch 28/30, Train Loss: 0.0251,       Test Loss: 0.9597, accuracy: 0.7677 Duration: 0:03:46.277017\n",
            "Epoch 29/30, Train Loss: 0.0169,       Test Loss: 0.8463, accuracy: 0.8129 Duration: 0:03:49.179742\n",
            "Epoch 30/30, Train Loss: 0.0150,       Test Loss: 0.8382, accuracy: 0.7742 Duration: 0:03:46.309874\n"
          ]
        }
      ]
    },
    {
      "cell_type": "code",
      "metadata": {
        "id": "izkMQ0cHUv6e",
        "colab": {
          "base_uri": "https://localhost:8080/",
          "height": 265
        },
        "outputId": "310c70da-e8a5-4e12-f0fe-18c36e7c1182"
      },
      "source": [
        "# Plot the train loss and test loss per iteration\n",
        "plt.plot(train_losses, label='train loss')\n",
        "plt.plot(test_losses, label='test loss')\n",
        "plt.legend()\n",
        "plt.show()"
      ],
      "execution_count": 44,
      "outputs": [
        {
          "output_type": "display_data",
          "data": {
            "image/png": "[encoded data removed]",
            "text/plain": [
              "<Figure size 432x288 with 1 Axes>"
            ]
          },
          "metadata": {
            "needs_background": "light"
          }
        }
      ]
    },
    {
      "cell_type": "code",
      "metadata": {
        "id": "hbQz7jpdU2JF"
      },
      "source": [
        "# Confusion matrix\n",
        "from sklearn.metrics import confusion_matrix\n",
        "import itertools\n",
        "\n",
        "def plot_confusion_matrix(cm, classes,\n",
        "                          normalize=False,\n",
        "                          title='Confusion matrix',\n",
        "                          cmap=plt.cm.Blues):\n",
        "  \"\"\"\n",
        "  This function prints and plots the confusion matrix.\n",
        "  Normalization can be applied by setting `normalize=True`.\n",
        "  \"\"\"\n",
        "  if normalize:\n",
        "      cm = cm.astype('float') / cm.sum(axis=1)[:, np.newaxis]\n",
        "      print(\"Normalized confusion matrix\")\n",
        "  else:\n",
        "      print('Confusion matrix, without normalization')\n",
        "\n",
        "  print(cm)\n",
        "\n",
        "  plt.imshow(cm, interpolation='nearest', cmap=cmap)\n",
        "  plt.title(title)\n",
        "  plt.colorbar()\n",
        "  tick_marks = np.arange(len(classes))\n",
        "  plt.xticks(tick_marks, classes, rotation=45)\n",
        "  plt.yticks(tick_marks, classes)\n",
        "\n",
        "  fmt = '.2f' if normalize else 'd'\n",
        "  thresh = cm.max() / 2.\n",
        "  for i, j in itertools.product(range(cm.shape[0]), range(cm.shape[1])):\n",
        "      plt.text(j, i, format(cm[i, j], fmt),\n",
        "               horizontalalignment=\"center\",\n",
        "               color=\"white\" if cm[i, j] > thresh else \"black\")\n",
        "\n",
        "  plt.tight_layout()\n",
        "  plt.ylabel('True label')\n",
        "  plt.xlabel('Predicted label')\n",
        "  plt.show()"
      ],
      "execution_count": 45,
      "outputs": []
    },
    {
      "cell_type": "code",
      "metadata": {
        "id": "3uSBJrNYE0mg",
        "colab": {
          "base_uri": "https://localhost:8080/",
          "height": 453
        },
        "outputId": "86171f96-40e0-4d17-c4a1-ac3350d8b935"
      },
      "source": [
        "# get all predictions in an array and plot confusion matrix\n",
        "\n",
        "y_test = np.array([])\n",
        "p_test = np.array([])\n",
        "\n",
        "for inputs, targets in test_loader:\n",
        "  # Move to GPU\n",
        "  inputs, targets = inputs.to(device), targets.to(device)\n",
        "\n",
        "  # Forward pass\n",
        "  outputs = model(inputs)\n",
        "\n",
        "  # Get prediction\n",
        "  _, predictions = torch.max(outputs, 1)\n",
        "  \n",
        "  # update p_test\n",
        "  p_test = np.concatenate((p_test, predictions.cpu().numpy()))\n",
        "  y_test = np.concatenate((y_test, targets.cpu().numpy()))\n",
        "\n",
        "cm = confusion_matrix(y_test, p_test)\n",
        "plot_confusion_matrix(cm, list(range(7)))"
      ],
      "execution_count": 46,
      "outputs": [
        {
          "output_type": "stream",
          "name": "stdout",
          "text": [
            "Confusion matrix, without normalization\n",
            "[[16  1  0  1  0  1  0]\n",
            " [ 0 17  0  0  1  0  0]\n",
            " [ 1  0  8  1  0  1  2]\n",
            " [ 0  0  0 27  0  0 11]\n",
            " [ 0  0  0  0 19  4  0]\n",
            " [ 0  0  0  0  0 23  0]\n",
            " [ 0  0  0  5  0  4 12]]\n"
          ]
        },
        {
          "output_type": "display_data",
          "data": {
            "image/png": "[encoded data removed]",
            "text/plain": [
              "<Figure size 432x288 with 2 Axes>"
            ]
          },
          "metadata": {
            "needs_background": "light"
          }
        }
      ]
    },
    {
      "cell_type": "code",
      "metadata": {
        "id": "6UAZYaITmrtO"
      },
      "source": [
        "emotion_mappings  = {\n",
        "                        0 :\"A\",\n",
        "                        1 :\"T\",\n",
        "                        2 :\"E\",\n",
        "                        3 :\"W\",\n",
        "                        4 :\"L\",\n",
        "                        5 :\"N\",\n",
        "                        6 :\"F\"\n",
        "                    }\n",
        "\n",
        "emotions = {\n",
        "            \"W\" : \"anger\",\n",
        "            \"L\" : \"boredom\",\n",
        "            \"E\" : \"disgust\",\n",
        "            \"A\" : \"fear\",\n",
        "            \"F\" : \"happiness\",\n",
        "            \"T\" : \"sadness\",\n",
        "            \"N\" : \"neutral\"\n",
        "            }\n",
        "\n",
        "list_emotions=[]\n",
        "for idx in range(7):\n",
        "    list_emotions.append(emotions[emotion_mappings[idx]])\n",
        "\n",
        "list_accu = np.diag(cm) / np.sum(cm, axis=0)"
      ],
      "execution_count": 47,
      "outputs": []
    },
    {
      "cell_type": "code",
      "metadata": {
        "id": "G01zHtbwmupJ",
        "colab": {
          "base_uri": "https://localhost:8080/"
        },
        "outputId": "2c42e263-ac06-493f-f77f-86aafe68738d"
      },
      "source": [
        "for item in zip(list_emotions, list_accu):\n",
        "    print(item)"
      ],
      "execution_count": 48,
      "outputs": [
        {
          "output_type": "stream",
          "name": "stdout",
          "text": [
            "('fear', 0.9411764705882353)\n",
            "('sadness', 0.9444444444444444)\n",
            "('disgust', 1.0)\n",
            "('anger', 0.7941176470588235)\n",
            "('boredom', 0.95)\n",
            "('neutral', 0.696969696969697)\n",
            "('happiness', 0.48)\n"
          ]
        }
      ]
    },
    {
      "cell_type": "code",
      "metadata": {
        "id": "sg4QOafemzXN"
      },
      "source": [
        "dist = {'anger_female': (47, 20),\n",
        "        'anger_male': (42, 18),\n",
        "        'boredom_female': (33, 13),\n",
        "        'boredom_male': (25, 10),\n",
        "        'disgust_female': (25, 10),\n",
        "        'disgust_male': (8, 3),\n",
        "        'fear_female': (24, 9),\n",
        "        'fear_male': (26, 10),\n",
        "        'happiness_female': (31, 13),\n",
        "        'happiness_male': (19, 8),\n",
        "        'neutral_female': (28, 12),\n",
        "        'neutral_male': (28, 11),\n",
        "        'sadness_female': (26, 11),\n",
        "        'sadness_male': (18, 7)}"
      ],
      "execution_count": 49,
      "outputs": []
    },
    {
      "cell_type": "code",
      "metadata": {
        "id": "hPTSoW0Wp55I"
      },
      "source": [
        ""
      ],
      "execution_count": 49,
      "outputs": []
    }
  ]
}