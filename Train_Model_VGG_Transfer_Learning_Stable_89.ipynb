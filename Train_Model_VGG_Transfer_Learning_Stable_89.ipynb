{
  "nbformat": 4,
  "nbformat_minor": 0,
  "metadata": {
    "colab": {
      "provenance": [],
      "machine_shape": "hm"
    },
    "kernelspec": {
      "name": "python3",
      "display_name": "Python 3"
    },
    "language_info": {
      "name": "python"
    },
    "accelerator": "GPU"
  },
  "cells": [
    {
      "cell_type": "code",
      "metadata": {
        "id": "2v0vAm_O2HqD"
      },
      "source": [
        "import torch\n",
        "import numpy as np\n",
        "import pandas as pd\n",
        "from joblib import load, dump\n",
        "import os\n",
        "import numpy as np\n",
        "import cv2\n",
        "from PIL import Image\n",
        "import PIL\n",
        "from torchvision.transforms import transforms\n",
        "import torch\n",
        "import torch.nn as nn\n",
        "import torch.nn.functional as F\n",
        "from fastprogress import master_bar, progress_bar\n",
        "from sklearn.model_selection import train_test_split\n",
        "import time\n",
        "import pickle\n",
        "import argparse\n",
        "import random\n",
        "\n",
        "def mixup_data(x, y, alpha=0.4, use_cuda=True):\n",
        "    if alpha > 0:\n",
        "        lam = np.random.beta(alpha, alpha)\n",
        "    else:\n",
        "        lam = 1\n",
        "\n",
        "    batch_size = x.size()[0]\n",
        "    if use_cuda:\n",
        "        index = torch.randperm(batch_size).cuda()\n",
        "    else:\n",
        "        index = torch.randperm(batch_size)\n",
        "\n",
        "    mixed_x = lam * x + (1 - lam) * x[index, :]\n",
        "    y_a, y_b = y, y[index]\n",
        "    return mixed_x, y_a, y_b, lam\n",
        "\n",
        "def rand_bbox(size, lam):\n",
        "    W = size[2]\n",
        "    H = size[3]\n",
        "    cut_rat = np.sqrt(1. - lam)\n",
        "    cut_w = np.int(W * cut_rat)\n",
        "    cut_h = np.int(H * cut_rat)\n",
        "\n",
        "    # uniform\n",
        "    cx = np.random.randint(W)\n",
        "    cy = np.random.randint(H)\n",
        "\n",
        "    bbx1 = np.clip(cx - cut_w // 2, 0, W)\n",
        "    bby1 = np.clip(cy - cut_h // 2, 0, H)\n",
        "    bbx2 = np.clip(cx + cut_w // 2, 0, W)\n",
        "    bby2 = np.clip(cy + cut_h // 2, 0, H)\n",
        "\n",
        "    return bbx1, bby1, bbx2, bby2\n",
        "\n",
        "def cutmix_data(x, y, alpha=0.4, use_cuda=True):\n",
        "    if alpha > 0:\n",
        "        lam = np.random.beta(alpha, alpha)\n",
        "    else:\n",
        "        lam = 1\n",
        "\n",
        "    batch_size = x.size()[0]\n",
        "    if use_cuda:\n",
        "        index = torch.randperm(batch_size).cuda()\n",
        "    else:\n",
        "        index = torch.randperm(batch_size)\n",
        "    bbx1, bby1, bbx2, bby2 = rand_bbox(x.size(), lam)\n",
        "    x[:, :, bbx1:bbx2, bby1:bby2] = x[index, :, bbx1:bbx2, bby1:bby2]\n",
        "    lam = 1 - ((bbx2 - bbx1) * (bby2 - bby1) / (x.size()[-1] * x.size()[-2]))\n",
        "    y_a, y_b = y, y[index]\n",
        "    return x, y_a, y_b, lam\n",
        "\n",
        "def mixup_criterion(criterion, pred, y_a, y_b, lam):\n",
        "    return lam * criterion(pred, y_a) + (1 - lam) * criterion(pred, y_b)"
      ],
      "execution_count": null,
      "outputs": []
    },
    {
      "cell_type": "code",
      "metadata": {
        "id": "CtkwToMO92js",
        "colab": {
          "base_uri": "https://localhost:8080/"
        },
        "outputId": "579d5a3f-f41b-4cf1-bc79-7f2ffefb6210"
      },
      "source": [
        "import os\n",
        "import numpy as np\n",
        "import pandas as pd\n",
        "from datetime import datetime\n",
        "\n",
        "import matplotlib.pyplot as plt\n",
        "\n",
        "import torch\n",
        "import torch.nn as nn\n",
        "from torch.utils.data import Dataset\n",
        "from torch.utils.data import DataLoader\n",
        "import torchvision.transforms as T\n",
        "import torch.nn as nn\n",
        "import torch.nn.functional as F\n",
        "import torchvision\n",
        "import pickle\n",
        "import librosa\n",
        "import librosa.display\n",
        "import IPython.display\n",
        "import warnings\n",
        "warnings.filterwarnings(action='ignore')\n",
        "\n",
        "from google.colab import drive\n",
        "drive.mount('/content/G')"
      ],
      "execution_count": null,
      "outputs": [
        {
          "output_type": "stream",
          "name": "stdout",
          "text": [
            "Drive already mounted at /content/G; to attempt to forcibly remount, call drive.mount(\"/content/G\", force_remount=True).\n"
          ]
        }
      ]
    },
    {
      "cell_type": "code",
      "metadata": {
        "id": "sbDG0wK3EB16"
      },
      "source": [
        "def get_abs_subdir_files(path_to_folder):\n",
        "\n",
        "    filelist = []\n",
        "    for root, dirs, files in os.walk(path_to_folder):\n",
        "        for file in files:\n",
        "            filelist.append(os.path.join(root,file))\n",
        "\n",
        "    return filelist\n",
        "\n",
        "\n",
        "def remove_silent_space(signal, sr=22050, threshold=0.0005):\n",
        "    mask = []\n",
        "    signal_abs = pd.Series(signal).apply(np.abs)\n",
        "    signal_mean = signal_abs.rolling(window = int(sr/10), min_periods = 1, center = True).mean()\n",
        "    for mean in signal_mean:\n",
        "        if mean > threshold:\n",
        "            mask.append(True)\n",
        "        else:\n",
        "            mask.append(False)\n",
        "    return np.array(signal[mask])\n",
        "\n",
        "\n",
        "\n",
        "def sort_audio_waves(files):\n",
        "    signals = []\n",
        "    for audio in files:\n",
        "        signal, _ = librosa.load(audio, sr=22050)\n",
        "        signals.append([audio,signal.shape[0]])\n",
        "    signals_sorted = sorted(signals, key=lambda x: x[1])\n",
        "    files_sorted = [item[0 ]for item in  signals_sorted]\n",
        "\n",
        "    return files_sorted\n",
        "\n",
        "\n",
        "\n",
        "def get_label(file):\n",
        "\n",
        "    emotion_mappings  = {\n",
        "                            \"A\" : 0,\n",
        "                            \"T\" : 1,\n",
        "                            \"E\" : 2,\n",
        "                            \"W\" : 3,\n",
        "                            \"L\" : 4,\n",
        "                            \"N\" : 5,\n",
        "                            \"F\" : 6\n",
        "                        }\n",
        "\n",
        "    return emotion_mappings[file[-6:-5]]\n",
        "\n",
        "\n",
        "def get_voice_features(signal, sample_rate=22050, n_fft = 2048, hop_length = 512, n_mfcc = 13):\n",
        "    \"\"\"\n",
        "    Creates (3, X, 230) feaures matrix from audio wave signal\n",
        "    `X` varies between 50 and 700 depending on audio signal size\n",
        "    \"\"\"\n",
        "\n",
        "    voice_features = []\n",
        "\n",
        "    voice_features.append(librosa.feature.mfcc(signal, sr=sample_rate, n_fft = n_fft, hop_length=hop_length, n_mfcc=n_mfcc))\n",
        "    voice_features.append(librosa.feature.melspectrogram(signal, sr=sample_rate, n_fft = n_fft, hop_length=hop_length))\n",
        "    voice_features.append(librosa.feature.chroma_stft(signal, sr=sample_rate, n_fft = n_fft, hop_length=hop_length))\n",
        "    # voice_features.append(librosa.feature.chroma_cqt(signal, sr=sample_rate, hop_length=hop_length))\n",
        "    # voice_features.append(librosa.feature.chroma_cens(signal, sr=sample_rate, hop_length=hop_length))\n",
        "    voice_features.append(librosa.feature.spectral_contrast(signal, sr=sample_rate, n_fft = n_fft, hop_length=hop_length))\n",
        "    voice_features.append(librosa.feature.tonnetz(signal, sr=sample_rate, hop_length=hop_length))\n",
        "\n",
        "    signal_harmonic, signal_percussive = librosa.effects.hpss(signal)\n",
        "    melspec_harmonic = librosa.feature.melspectrogram(signal_harmonic, n_mels = 64)\n",
        "    melspec_percussive = librosa.feature.melspectrogram(signal_percussive, n_mels = 64)\n",
        "    hpss_hp = np.average([melspec_harmonic, melspec_percussive], axis=0)\n",
        "\n",
        "    voice_features.append(hpss_hp)\n",
        "\n",
        "\n",
        "    image_width = voice_features[0].shape[1]\n",
        "    image_height = 0\n",
        "    for v_feat in voice_features:\n",
        "        image_height += v_feat.shape[0]\n",
        "\n",
        "\n",
        "    start_index = 0\n",
        "    feature = np.zeros((image_height, image_width))\n",
        "    for v_feat in voice_features:\n",
        "        feature[start_index: start_index + v_feat.shape[0], :] = v_feat\n",
        "        start_index += v_feat.shape[0]\n",
        "\n",
        "\n",
        "    feature3d = np.zeros((3, image_width, image_height))\n",
        "\n",
        "    # feature_db = librosa.amplitude_to_db(feature)\n",
        "    # feature_delta = librosa.feature.delta(feature)\n",
        "\n",
        "    feature3d[0,:,:] = librosa.util.normalize(feature.T)\n",
        "    feature3d[1,:,:] = librosa.util.normalize(feature.T)\n",
        "    feature3d[2,:,:] = librosa.util.normalize(feature.T)\n",
        "\n",
        "    return (feature3d)"
      ],
      "execution_count": null,
      "outputs": []
    },
    {
      "cell_type": "code",
      "metadata": {
        "id": "QdEW5X78Oxvr"
      },
      "source": [
        "train_transform = T.Compose([\n",
        "        T.ToPILImage(),\n",
        "        T.RandomResizedCrop(size=256, scale=(0.8, 1.0)),\n",
        "        T.RandomRotation(degrees=15),\n",
        "        T.ColorJitter(),\n",
        "        T.CenterCrop(size=224),\n",
        "        T.RandomHorizontalFlip(),\n",
        "        T.ToTensor(),\n",
        "        T.Normalize([0.485, 0.456, 0.406], [0.229, 0.224, 0.225])\n",
        "])\n",
        "\n",
        "# Note: normalize mean and std are standardized for ImageNet\n",
        "transform = T.Compose([\n",
        "        T.ToPILImage(),\n",
        "        # T.Resize(size=256),\n",
        "        # T.CenterCrop(size=224),\n",
        "        T.ToTensor(),\n",
        "        T.Normalize([0.485, 0.456, 0.406], [0.229, 0.224, 0.225])\n",
        "])\n",
        "\n",
        "\n",
        "def collate_batch_train(batch):\n",
        "\n",
        "    max_signal_size = max([signal.shape[0] for (signal, label) in batch])\n",
        "\n",
        "    signals = []\n",
        "    labels = []\n",
        "    for (signal, label) in batch:\n",
        "        signals.append(\n",
        "                        np.pad(\n",
        "                                signal,\n",
        "                                int(np.ceil((max_signal_size-signal.shape[0])/2)),\n",
        "                                mode=\"reflect\"\n",
        "                                )[:max_signal_size-10]\n",
        "                      )\n",
        "        labels.append(label)\n",
        "\n",
        "    voice_features = []\n",
        "    for signal in signals:\n",
        "\n",
        "        feat3d = get_voice_features(signal)\n",
        "        feat3d = torch.from_numpy(feat3d)\n",
        "        feat3d_transformered = transform(feat3d)\n",
        "\n",
        "        voice_features.append(feat3d_transformered)\n",
        "\n",
        "    voice_features = torch.stack(voice_features)\n",
        "\n",
        "    labels = np.array(labels)\n",
        "    labels = torch.from_numpy(labels)\n",
        "\n",
        "    return voice_features, labels"
      ],
      "execution_count": null,
      "outputs": []
    },
    {
      "cell_type": "code",
      "metadata": {
        "id": "RQtNl4IYQHox"
      },
      "source": [
        "test_transform = T.Compose([\n",
        "        T.ToPILImage(),\n",
        "        T.Resize(size=256),\n",
        "        T.CenterCrop(size=224),\n",
        "        T.ToTensor(),\n",
        "        T.Normalize([0.485, 0.456, 0.406], [0.229, 0.224, 0.225])\n",
        "])\n",
        "\n",
        "\n",
        "def collate_batch_test(batch):\n",
        "\n",
        "    max_signal_size = max([signal.shape[0] for (signal, label) in batch])\n",
        "\n",
        "    signals = []\n",
        "    labels = []\n",
        "    for (signal, label) in batch:\n",
        "        signals.append(\n",
        "                        np.pad(\n",
        "                                signal,\n",
        "                                int(np.ceil((max_signal_size-signal.shape[0])/2)),\n",
        "                                mode=\"reflect\"\n",
        "                                )[:max_signal_size-10]\n",
        "                      )\n",
        "        labels.append(label)\n",
        "\n",
        "    voice_features = []\n",
        "    for signal in signals:\n",
        "\n",
        "        feat3d = get_voice_features(signal)\n",
        "        feat3d = torch.from_numpy(feat3d)\n",
        "        feat3d_transformered = transform(feat3d)\n",
        "\n",
        "        voice_features.append(feat3d_transformered)\n",
        "\n",
        "    voice_features = torch.stack(voice_features)\n",
        "\n",
        "    labels = np.array(labels)\n",
        "    labels = torch.from_numpy(labels)\n",
        "\n",
        "    return voice_features, labels"
      ],
      "execution_count": null,
      "outputs": []
    },
    {
      "cell_type": "code",
      "metadata": {
        "id": "cR4D3B6xIm4q"
      },
      "source": [
        "def collate_batch(batch):\n",
        "\n",
        "    max_signal_size = max([signal.shape[0] for (signal, label) in batch])\n",
        "\n",
        "    signals = []\n",
        "    labels = []\n",
        "    for (signal, label) in batch:\n",
        "        signals.append(\n",
        "                        np.pad(\n",
        "                                signal,\n",
        "                                int(np.ceil((max_signal_size-signal.shape[0])/2)),\n",
        "                                mode=\"reflect\"\n",
        "                                )[:max_signal_size-10]\n",
        "                      )\n",
        "        labels.append(label)\n",
        "\n",
        "    voice_features = []\n",
        "    for signal in signals:\n",
        "        voice_features.append(get_voice_features(signal))\n",
        "\n",
        "    voice_features = np.array(voice_features)\n",
        "    voice_features = torch.from_numpy(voice_features.astype(np.float32))\n",
        "\n",
        "    labels = np.array(labels)\n",
        "    labels = torch.from_numpy(labels)\n",
        "\n",
        "    return voice_features, labels\n",
        "\n",
        "\n",
        "\n",
        "class EMODB_Dataset(Dataset):\n",
        "\n",
        "    def __init__(self, path_to_audio_waves,  sort_data=False, sample_rate=22050):\n",
        "\n",
        "        self.audio_waves = sort_audio_waves(get_abs_subdir_files(path_to_audio_waves))\n",
        "        self.sample_rate = sample_rate\n",
        "\n",
        "        if sort_data:\n",
        "            self.audio_waves = sort_audio_waves(self.audio_waves)\n",
        "\n",
        "\n",
        "    def __len__(self):\n",
        "        return len(self.audio_waves)\n",
        "\n",
        "    def __getitem__(self, idx):\n",
        "\n",
        "        audio_file = self.audio_waves[idx]\n",
        "        signal, sr = librosa.load(audio_file, sr=self.sample_rate)\n",
        "        signal = remove_silent_space(signal, sr=sr)\n",
        "\n",
        "        label = get_label(audio_file)\n",
        "\n",
        "        return signal, label\n"
      ],
      "execution_count": null,
      "outputs": []
    },
    {
      "cell_type": "code",
      "metadata": {
        "id": "xvJ24v6YJRCX"
      },
      "source": [
        "path_to_train_dataset = \"/content/G/MyDrive/VED/EMO-DB-CLASSIFIED-0.2/train/\"\n",
        "path_to_test_dataset = \"/content/G/MyDrive/VED/EMO-DB-CLASSIFIED-0.2/test/\"\n",
        "\n",
        "training_data = EMODB_Dataset(path_to_train_dataset)\n",
        "test_data = EMODB_Dataset(path_to_test_dataset)\n",
        "\n",
        "train_loader = DataLoader(training_data, batch_size=16, shuffle=True, collate_fn=collate_batch)\n",
        "test_loader = DataLoader(test_data, batch_size=16, shuffle=True, collate_fn=collate_batch)"
      ],
      "execution_count": null,
      "outputs": []
    },
    {
      "cell_type": "code",
      "metadata": {
        "colab": {
          "base_uri": "https://localhost:8080/"
        },
        "id": "m3HYzOuYgQXh",
        "outputId": "f8cf02e7-a7cc-43f4-886e-e6f9eed5d14e"
      },
      "source": [
        "for item in train_loader:\n",
        "    print (item[0].shape)\n",
        "    break"
      ],
      "execution_count": null,
      "outputs": [
        {
          "output_type": "stream",
          "name": "stdout",
          "text": [
            "torch.Size([16, 3, 181, 230])\n"
          ]
        }
      ]
    },
    {
      "cell_type": "markdown",
      "metadata": {
        "id": "6SU5nMueUCOk"
      },
      "source": [
        "#VGG16 Transfer Learning"
      ]
    },
    {
      "cell_type": "code",
      "metadata": {
        "colab": {
          "base_uri": "https://localhost:8080/"
        },
        "id": "5fabV3TNTHDc",
        "outputId": "09e97047-324f-45ac-cd98-9317c514573f"
      },
      "source": [
        "# Define transfer learning model\n",
        "\n",
        "model = torchvision.models.vgg16(pretrained=True)\n",
        "\n",
        "for param in model.parameters():\n",
        "    param.required_grad = False\n",
        "\n",
        "\n",
        "classifier = nn.Sequential(\n",
        "                            nn.Linear(25088, 4096),\n",
        "                            nn.ReLU(True),\n",
        "                            nn.Dropout(),\n",
        "                            nn.Linear(4096, 4096),\n",
        "                            nn.ReLU(True),\n",
        "                            nn.Dropout(),\n",
        "                            nn.Linear(4096, 7)\n",
        "                        )\n",
        "\n",
        "model.classifier = classifier\n",
        "\n",
        "model"
      ],
      "execution_count": null,
      "outputs": [
        {
          "output_type": "execute_result",
          "data": {
            "text/plain": [
              "VGG(\n",
              "  (features): Sequential(\n",
              "    (0): Conv2d(3, 64, kernel_size=(3, 3), stride=(1, 1), padding=(1, 1))\n",
              "    (1): ReLU(inplace=True)\n",
              "    (2): Conv2d(64, 64, kernel_size=(3, 3), stride=(1, 1), padding=(1, 1))\n",
              "    (3): ReLU(inplace=True)\n",
              "    (4): MaxPool2d(kernel_size=2, stride=2, padding=0, dilation=1, ceil_mode=False)\n",
              "    (5): Conv2d(64, 128, kernel_size=(3, 3), stride=(1, 1), padding=(1, 1))\n",
              "    (6): ReLU(inplace=True)\n",
              "    (7): Conv2d(128, 128, kernel_size=(3, 3), stride=(1, 1), padding=(1, 1))\n",
              "    (8): ReLU(inplace=True)\n",
              "    (9): MaxPool2d(kernel_size=2, stride=2, padding=0, dilation=1, ceil_mode=False)\n",
              "    (10): Conv2d(128, 256, kernel_size=(3, 3), stride=(1, 1), padding=(1, 1))\n",
              "    (11): ReLU(inplace=True)\n",
              "    (12): Conv2d(256, 256, kernel_size=(3, 3), stride=(1, 1), padding=(1, 1))\n",
              "    (13): ReLU(inplace=True)\n",
              "    (14): Conv2d(256, 256, kernel_size=(3, 3), stride=(1, 1), padding=(1, 1))\n",
              "    (15): ReLU(inplace=True)\n",
              "    (16): MaxPool2d(kernel_size=2, stride=2, padding=0, dilation=1, ceil_mode=False)\n",
              "    (17): Conv2d(256, 512, kernel_size=(3, 3), stride=(1, 1), padding=(1, 1))\n",
              "    (18): ReLU(inplace=True)\n",
              "    (19): Conv2d(512, 512, kernel_size=(3, 3), stride=(1, 1), padding=(1, 1))\n",
              "    (20): ReLU(inplace=True)\n",
              "    (21): Conv2d(512, 512, kernel_size=(3, 3), stride=(1, 1), padding=(1, 1))\n",
              "    (22): ReLU(inplace=True)\n",
              "    (23): MaxPool2d(kernel_size=2, stride=2, padding=0, dilation=1, ceil_mode=False)\n",
              "    (24): Conv2d(512, 512, kernel_size=(3, 3), stride=(1, 1), padding=(1, 1))\n",
              "    (25): ReLU(inplace=True)\n",
              "    (26): Conv2d(512, 512, kernel_size=(3, 3), stride=(1, 1), padding=(1, 1))\n",
              "    (27): ReLU(inplace=True)\n",
              "    (28): Conv2d(512, 512, kernel_size=(3, 3), stride=(1, 1), padding=(1, 1))\n",
              "    (29): ReLU(inplace=True)\n",
              "    (30): MaxPool2d(kernel_size=2, stride=2, padding=0, dilation=1, ceil_mode=False)\n",
              "  )\n",
              "  (avgpool): AdaptiveAvgPool2d(output_size=(7, 7))\n",
              "  (classifier): Sequential(\n",
              "    (0): Linear(in_features=25088, out_features=4096, bias=True)\n",
              "    (1): ReLU(inplace=True)\n",
              "    (2): Dropout(p=0.5, inplace=False)\n",
              "    (3): Linear(in_features=4096, out_features=4096, bias=True)\n",
              "    (4): ReLU(inplace=True)\n",
              "    (5): Dropout(p=0.5, inplace=False)\n",
              "    (6): Linear(in_features=4096, out_features=7, bias=True)\n",
              "  )\n",
              ")"
            ]
          },
          "metadata": {},
          "execution_count": 35
        }
      ]
    },
    {
      "cell_type": "code",
      "metadata": {
        "id": "n6N0nA6WZgsX"
      },
      "source": [
        "def get_test_dataset_accuracy(test_loader, device=\"cuda:0\"):\n",
        "\n",
        "    n_correct = 0.\n",
        "    n_total = 0.\n",
        "\n",
        "    for inputs, targets in test_loader:\n",
        "\n",
        "        inputs, targets = inputs.to(device), targets.to(device)\n",
        "        outputs = model(inputs)\n",
        "        _, predictions = torch.max(outputs, 1)\n",
        "        n_correct += (predictions == targets).sum().item()\n",
        "        n_total += targets.shape[0]\n",
        "\n",
        "    return n_correct / n_total"
      ],
      "execution_count": null,
      "outputs": []
    },
    {
      "cell_type": "code",
      "metadata": {
        "id": "m4_iIGkzTVif"
      },
      "source": [
        "#https://www.sciencedirect.com/science/article/pii/S2405959519303455\n",
        "\n",
        "device = torch.device(\"cuda:0\" if torch.cuda.is_available() else \"cpu\")\n",
        "model.to(device)\n",
        "\n",
        "criterion = nn.CrossEntropyLoss()\n",
        "optimizer = torch.optim.Adam(model.parameters(), lr=0.00001)\n",
        "\n",
        "# optimizer = torch.optim.RMSprop(model.parameters(), lr=0.000001)"
      ],
      "execution_count": null,
      "outputs": []
    },
    {
      "cell_type": "code",
      "metadata": {
        "id": "pEqLeyxFUp8t"
      },
      "source": [
        "# A function to encapsulate the training loop\n",
        "def batch_gd(model, criterion, optimizer, train_loader, test_loader, epochs, cutmix_flag=True):\n",
        "  train_losses = np.zeros(epochs)\n",
        "  test_losses = np.zeros(epochs)\n",
        "\n",
        "  for it in range(epochs):\n",
        "    model.train()\n",
        "    t0 = datetime.now()\n",
        "    train_loss = []\n",
        "    for inputs, targets in train_loader:\n",
        "      # move data to GPU\n",
        "      inputs, targets = inputs.to(device), targets.to(device)\n",
        "\n",
        "      if cutmix_flag:\n",
        "        x_batch, y_batch_a, y_batch_b, lam =  cutmix_data(inputs, targets)\n",
        "        preds = model(x_batch.cuda())\n",
        "        loss = mixup_criterion(criterion,preds, y_batch_a.cuda(), y_batch_b.cuda(), lam)\n",
        "        optimizer.zero_grad()\n",
        "        loss.backward()\n",
        "        optimizer.step()\n",
        "      else:\n",
        "\n",
        "        optimizer.zero_grad()\n",
        "        outputs = model(inputs)\n",
        "        loss = criterion(outputs, targets)\n",
        "        loss.backward()\n",
        "        optimizer.step()\n",
        "\n",
        "      train_loss.append(loss.item())\n",
        "\n",
        "        # Get train loss and test loss\n",
        "    train_loss = np.mean(train_loss) # a little misleading\n",
        "\n",
        "    model.eval()\n",
        "    test_loss = []\n",
        "    for inputs, targets in test_loader:\n",
        "      inputs, targets = inputs.to(device), targets.to(device)\n",
        "      outputs = model(inputs)\n",
        "      loss = criterion(outputs, targets)\n",
        "      test_loss.append(loss.item())\n",
        "    test_loss = np.mean(test_loss)\n",
        "\n",
        "\n",
        "    # Save losses\n",
        "    train_losses[it] = train_loss\n",
        "    test_losses[it] = test_loss\n",
        "\n",
        "    dt = datetime.now() - t0\n",
        "\n",
        "    accuracy_test = get_test_dataset_accuracy(test_loader, device=\"cuda:0\")\n",
        "\n",
        "    print(f'Epoch {it+1}/{epochs}, Train Loss: {train_loss:.4f}, \\\n",
        "      Test Loss: {test_loss:.4f}, accuracy: {accuracy_test:.4f} Duration: {dt}')\n",
        "\n",
        "  return train_losses, test_losses"
      ],
      "execution_count": null,
      "outputs": []
    },
    {
      "cell_type": "code",
      "metadata": {
        "id": "mPeqkYzIUtVt",
        "colab": {
          "base_uri": "https://localhost:8080/"
        },
        "outputId": "fd48edaa-77da-4da7-97e5-7663c8d02824"
      },
      "source": [
        "train_losses, test_losses = batch_gd(model, criterion, optimizer, train_loader, test_loader, epochs=40, cutmix_flag=True)"
      ],
      "execution_count": null,
      "outputs": [
        {
          "output_type": "stream",
          "name": "stdout",
          "text": [
            "Epoch 1/40, Train Loss: 1.8954,       Test Loss: 1.7857, accuracy: 0.2427 Duration: 0:06:21.665147\n",
            "Epoch 2/40, Train Loss: 1.8120,       Test Loss: 1.5356, accuracy: 0.4563 Duration: 0:06:25.665965\n",
            "Epoch 3/40, Train Loss: 1.6170,       Test Loss: 1.1523, accuracy: 0.5437 Duration: 0:06:13.485241\n",
            "Epoch 4/40, Train Loss: 1.4226,       Test Loss: 0.9193, accuracy: 0.6311 Duration: 0:06:29.529258\n",
            "Epoch 5/40, Train Loss: 1.3722,       Test Loss: 0.8658, accuracy: 0.6990 Duration: 0:06:26.519318\n",
            "Epoch 6/40, Train Loss: 1.2608,       Test Loss: 0.8249, accuracy: 0.6893 Duration: 0:06:31.981802\n",
            "Epoch 7/40, Train Loss: 1.2793,       Test Loss: 0.7469, accuracy: 0.7184 Duration: 0:06:18.418146\n",
            "Epoch 8/40, Train Loss: 1.1444,       Test Loss: 0.7725, accuracy: 0.7476 Duration: 0:06:28.201605\n",
            "Epoch 9/40, Train Loss: 1.0476,       Test Loss: 0.6466, accuracy: 0.7961 Duration: 0:06:22.278642\n",
            "Epoch 10/40, Train Loss: 1.1180,       Test Loss: 0.6479, accuracy: 0.7767 Duration: 0:06:33.707940\n",
            "Epoch 11/40, Train Loss: 1.0627,       Test Loss: 0.6177, accuracy: 0.7961 Duration: 0:06:13.495556\n",
            "Epoch 12/40, Train Loss: 1.0306,       Test Loss: 0.5995, accuracy: 0.7476 Duration: 0:06:05.124072\n",
            "Epoch 13/40, Train Loss: 0.9876,       Test Loss: 0.5178, accuracy: 0.8058 Duration: 0:06:04.499114\n",
            "Epoch 14/40, Train Loss: 0.9866,       Test Loss: 0.5181, accuracy: 0.8350 Duration: 0:06:08.905177\n",
            "Epoch 15/40, Train Loss: 0.9167,       Test Loss: 0.5943, accuracy: 0.8447 Duration: 0:06:07.696553\n",
            "Epoch 16/40, Train Loss: 0.9831,       Test Loss: 0.5257, accuracy: 0.8350 Duration: 0:06:11.763841\n",
            "Epoch 17/40, Train Loss: 0.9145,       Test Loss: 0.4742, accuracy: 0.8447 Duration: 0:06:03.451082\n",
            "Epoch 18/40, Train Loss: 0.8388,       Test Loss: 0.4378, accuracy: 0.8447 Duration: 0:06:03.523896\n",
            "Epoch 19/40, Train Loss: 0.9049,       Test Loss: 0.5091, accuracy: 0.8350 Duration: 0:06:13.728661\n",
            "Epoch 20/40, Train Loss: 0.7865,       Test Loss: 0.4999, accuracy: 0.8252 Duration: 0:06:14.440165\n",
            "Epoch 21/40, Train Loss: 0.7754,       Test Loss: 0.4672, accuracy: 0.8155 Duration: 0:06:11.052602\n",
            "Epoch 22/40, Train Loss: 0.7251,       Test Loss: 0.4671, accuracy: 0.8350 Duration: 0:06:14.478484\n",
            "Epoch 23/40, Train Loss: 0.7012,       Test Loss: 0.4237, accuracy: 0.8544 Duration: 0:06:15.206309\n",
            "Epoch 24/40, Train Loss: 0.8395,       Test Loss: 0.4483, accuracy: 0.8932 Duration: 0:06:12.904139\n",
            "Epoch 25/40, Train Loss: 0.8565,       Test Loss: 0.5329, accuracy: 0.8252 Duration: 0:06:13.203003\n",
            "Epoch 26/40, Train Loss: 0.8203,       Test Loss: 0.5572, accuracy: 0.8350 Duration: 0:06:11.676898\n",
            "Epoch 27/40, Train Loss: 0.7551,       Test Loss: 0.4405, accuracy: 0.8058 Duration: 0:06:03.389733\n",
            "Epoch 28/40, Train Loss: 0.7707,       Test Loss: 0.4364, accuracy: 0.8641 Duration: 0:06:04.685964\n",
            "Epoch 29/40, Train Loss: 0.6489,       Test Loss: 0.5155, accuracy: 0.8447 Duration: 0:06:06.259817\n",
            "Epoch 30/40, Train Loss: 0.7927,       Test Loss: 0.4878, accuracy: 0.8350 Duration: 0:05:59.565328\n",
            "Epoch 31/40, Train Loss: 0.7189,       Test Loss: 0.5015, accuracy: 0.8447 Duration: 0:06:04.509811\n",
            "Epoch 32/40, Train Loss: 0.6953,       Test Loss: 0.4619, accuracy: 0.8252 Duration: 0:06:08.449062\n",
            "Epoch 33/40, Train Loss: 0.6835,       Test Loss: 0.4779, accuracy: 0.8350 Duration: 0:06:05.863284\n",
            "Epoch 34/40, Train Loss: 0.7530,       Test Loss: 0.4226, accuracy: 0.8641 Duration: 0:06:09.756066\n",
            "Epoch 35/40, Train Loss: 0.6973,       Test Loss: 0.4425, accuracy: 0.8252 Duration: 0:06:03.456116\n",
            "Epoch 36/40, Train Loss: 0.7223,       Test Loss: 0.4532, accuracy: 0.8544 Duration: 0:06:03.517508\n",
            "Epoch 37/40, Train Loss: 0.7585,       Test Loss: 0.4587, accuracy: 0.8738 Duration: 0:06:06.444810\n",
            "Epoch 38/40, Train Loss: 0.7478,       Test Loss: 0.4525, accuracy: 0.8738 Duration: 0:06:07.870993\n",
            "Epoch 39/40, Train Loss: 0.6645,       Test Loss: 0.4824, accuracy: 0.8738 Duration: 0:05:58.422245\n",
            "Epoch 40/40, Train Loss: 0.6329,       Test Loss: 0.4539, accuracy: 0.8544 Duration: 0:06:05.327096\n"
          ]
        }
      ]
    },
    {
      "cell_type": "code",
      "metadata": {
        "id": "izkMQ0cHUv6e",
        "colab": {
          "base_uri": "https://localhost:8080/",
          "height": 265
        },
        "outputId": "ca34a224-25e8-40db-932f-5f82c2545242"
      },
      "source": [
        "# Plot the train loss and test loss per iteration\n",
        "plt.plot(train_losses, label='train loss')\n",
        "plt.plot(test_losses, label='test loss')\n",
        "plt.legend()\n",
        "plt.show()"
      ],
      "execution_count": null,
      "outputs": [
        {
          "output_type": "display_data",
          "data": {
            "image/png": "[encoded data removed]",
            "text/plain": [
              "<Figure size 432x288 with 1 Axes>"
            ]
          },
          "metadata": {
            "needs_background": "light"
          }
        }
      ]
    },
    {
      "cell_type": "code",
      "metadata": {
        "id": "hbQz7jpdU2JF"
      },
      "source": [
        "# Confusion matrix\n",
        "from sklearn.metrics import confusion_matrix\n",
        "import itertools\n",
        "\n",
        "def plot_confusion_matrix(cm, classes,\n",
        "                          normalize=False,\n",
        "                          title='Confusion matrix',\n",
        "                          cmap=plt.cm.Blues):\n",
        "  \"\"\"\n",
        "  This function prints and plots the confusion matrix.\n",
        "  Normalization can be applied by setting `normalize=True`.\n",
        "  \"\"\"\n",
        "  if normalize:\n",
        "      cm = cm.astype('float') / cm.sum(axis=1)[:, np.newaxis]\n",
        "      print(\"Normalized confusion matrix\")\n",
        "  else:\n",
        "      print('Confusion matrix, without normalization')\n",
        "\n",
        "  print(cm)\n",
        "\n",
        "  plt.imshow(cm, interpolation='nearest', cmap=cmap)\n",
        "  plt.title(title)\n",
        "  plt.colorbar()\n",
        "  tick_marks = np.arange(len(classes))\n",
        "  plt.xticks(tick_marks, classes, rotation=45)\n",
        "  plt.yticks(tick_marks, classes)\n",
        "\n",
        "  fmt = '.2f' if normalize else 'd'\n",
        "  thresh = cm.max() / 2.\n",
        "  for i, j in itertools.product(range(cm.shape[0]), range(cm.shape[1])):\n",
        "      plt.text(j, i, format(cm[i, j], fmt),\n",
        "               horizontalalignment=\"center\",\n",
        "               color=\"white\" if cm[i, j] > thresh else \"black\")\n",
        "\n",
        "  plt.tight_layout()\n",
        "  plt.ylabel('True label')\n",
        "  plt.xlabel('Predicted label')\n",
        "  plt.show()"
      ],
      "execution_count": null,
      "outputs": []
    },
    {
      "cell_type": "code",
      "metadata": {
        "id": "3uSBJrNYE0mg",
        "colab": {
          "base_uri": "https://localhost:8080/",
          "height": 453
        },
        "outputId": "14abe9b3-66b5-424b-8196-afc101a5ea36"
      },
      "source": [
        "# get all predictions in an array and plot confusion matrix\n",
        "\n",
        "y_test = np.array([])\n",
        "p_test = np.array([])\n",
        "\n",
        "for inputs, targets in test_loader:\n",
        "  # Move to GPU\n",
        "  inputs, targets = inputs.to(device), targets.to(device)\n",
        "\n",
        "  # Forward pass\n",
        "  outputs = model(inputs)\n",
        "\n",
        "  # Get prediction\n",
        "  _, predictions = torch.max(outputs, 1)\n",
        "\n",
        "  # update p_test\n",
        "  p_test = np.concatenate((p_test, predictions.cpu().numpy()))\n",
        "  y_test = np.concatenate((y_test, targets.cpu().numpy()))\n",
        "\n",
        "cm = confusion_matrix(y_test, p_test)\n",
        "plot_confusion_matrix(cm, list(range(7)))"
      ],
      "execution_count": null,
      "outputs": [
        {
          "output_type": "stream",
          "name": "stdout",
          "text": [
            "Confusion matrix, without normalization\n",
            "[[11  1  0  0  0  0  1]\n",
            " [ 0 11  0  0  1  0  0]\n",
            " [ 1  1  6  0  1  0  0]\n",
            " [ 0  0  0 23  0  0  2]\n",
            " [ 0  1  0  0 12  3  0]\n",
            " [ 0  0  0  0  0 15  0]\n",
            " [ 1  0  0  4  0  0  8]]\n"
          ]
        },
        {
          "output_type": "display_data",
          "data": {
            "image/png": "[encoded data removed]",
            "text/plain": [
              "<Figure size 432x288 with 2 Axes>"
            ]
          },
          "metadata": {
            "needs_background": "light"
          }
        }
      ]
    },
    {
      "cell_type": "code",
      "metadata": {
        "id": "6UAZYaITmrtO"
      },
      "source": [
        "emotion_mappings  = {\n",
        "                        0 :\"A\",\n",
        "                        1 :\"T\",\n",
        "                        2 :\"E\",\n",
        "                        3 :\"W\",\n",
        "                        4 :\"L\",\n",
        "                        5 :\"N\",\n",
        "                        6 :\"F\"\n",
        "                    }\n",
        "\n",
        "emotions = {\n",
        "            \"W\" : \"anger\",\n",
        "            \"L\" : \"boredom\",\n",
        "            \"E\" : \"disgust\",\n",
        "            \"A\" : \"fear\",\n",
        "            \"F\" : \"happiness\",\n",
        "            \"T\" : \"sadness\",\n",
        "            \"N\" : \"neutral\"\n",
        "            }\n",
        "\n",
        "list_emotions=[]\n",
        "for idx in range(7):\n",
        "    list_emotions.append(emotions[emotion_mappings[idx]])\n",
        "\n",
        "list_accu = np.diag(cm) / np.sum(cm, axis=0)"
      ],
      "execution_count": null,
      "outputs": []
    },
    {
      "cell_type": "code",
      "metadata": {
        "id": "G01zHtbwmupJ",
        "colab": {
          "base_uri": "https://localhost:8080/"
        },
        "outputId": "10cc4a13-2991-4fbd-8042-02d23f64ba44"
      },
      "source": [
        "for item in zip(list_emotions, list_accu):\n",
        "    print(item)"
      ],
      "execution_count": null,
      "outputs": [
        {
          "output_type": "stream",
          "name": "stdout",
          "text": [
            "('fear', 0.8461538461538461)\n",
            "('sadness', 0.7857142857142857)\n",
            "('disgust', 1.0)\n",
            "('anger', 0.8518518518518519)\n",
            "('boredom', 0.8571428571428571)\n",
            "('neutral', 0.8333333333333334)\n",
            "('happiness', 0.7272727272727273)\n"
          ]
        }
      ]
    },
    {
      "cell_type": "code",
      "metadata": {
        "id": "sg4QOafemzXN"
      },
      "source": [
        "dist = {'anger_female': (54, 13),\n",
        "        'anger_male': (48, 12),\n",
        "        'boredom_female': (37, 9),\n",
        "        'boredom_male': (28, 7),\n",
        "        'disgust_female': (28, 7),\n",
        "        'disgust_male': (9, 2),\n",
        "        'fear_female': (27, 6),\n",
        "        'fear_male': (29, 7),\n",
        "        'happiness_female': (36, 8),\n",
        "        'happiness_male': (22, 5),\n",
        "        'neutral_female': (32, 8),\n",
        "        'neutral_male': (32, 7),\n",
        "        'sadness_female': (30, 7),\n",
        "        'sadness_male': (20, 5)}"
      ],
      "execution_count": null,
      "outputs": []
    },
    {
      "cell_type": "code",
      "metadata": {
        "id": "Q5h-hV28rYik"
      },
      "source": [
        "for inputs, targets in test_loader:\n",
        "\n",
        "    inputs, targets = inputs.to(device), targets.to(device)\n",
        "    outputs = model(inputs)\n",
        "    _, predictions = torch.max(outputs, 1)"
      ],
      "execution_count": null,
      "outputs": []
    },
    {
      "cell_type": "code",
      "metadata": {
        "id": "uSLDzaHBszE2",
        "colab": {
          "base_uri": "https://localhost:8080/"
        },
        "outputId": "9ebf9539-220a-45c1-ec1a-13d9f0af445b"
      },
      "source": [
        "inputs.shape"
      ],
      "execution_count": null,
      "outputs": [
        {
          "output_type": "execute_result",
          "data": {
            "text/plain": [
              "torch.Size([7, 3, 181, 230])"
            ]
          },
          "metadata": {},
          "execution_count": 47
        }
      ]
    },
    {
      "cell_type": "code",
      "metadata": {
        "id": "K4T5Ancss1d0",
        "colab": {
          "base_uri": "https://localhost:8080/"
        },
        "outputId": "038522ee-e499-4025-d206-8789c07dc947"
      },
      "source": [
        "window = 40\n",
        "N = 4\n",
        "for indx in range(1,N):\n",
        "    x = torch.max(model(inputs[:,:,indx*window:(indx+1)*window,:]), 1).indices\n",
        "    print(x)\n",
        "print(targets)"
      ],
      "execution_count": null,
      "outputs": [
        {
          "output_type": "stream",
          "name": "stdout",
          "text": [
            "tensor([0, 0, 0, 2, 0, 5, 6], device='cuda:0')\n",
            "tensor([3, 3, 0, 4, 4, 2, 6], device='cuda:0')\n",
            "tensor([1, 2, 2, 2, 1, 4, 3], device='cuda:0')\n",
            "tensor([4, 2, 6, 2, 4, 4, 6], device='cuda:0')\n"
          ]
        }
      ]
    },
    {
      "cell_type": "code",
      "metadata": {
        "id": "0M8rQlzetQyQ",
        "colab": {
          "base_uri": "https://localhost:8080/"
        },
        "outputId": "f80776cc-44f5-4a48-d0dc-a834b86c6a5c"
      },
      "source": [
        "predictions"
      ],
      "execution_count": null,
      "outputs": [
        {
          "output_type": "execute_result",
          "data": {
            "text/plain": [
              "tensor([5, 2, 6, 2, 4, 4, 6], device='cuda:0')"
            ]
          },
          "metadata": {},
          "execution_count": 49
        }
      ]
    },
    {
      "cell_type": "code",
      "metadata": {
        "id": "EmCCzXSsuqjB",
        "colab": {
          "base_uri": "https://localhost:8080/"
        },
        "outputId": "8ba901c6-c296-432e-8a3f-54c99c37a34d"
      },
      "source": [
        "torch.max(model(inputs[:,:,0:38,:]), 1).indices"
      ],
      "execution_count": null,
      "outputs": [
        {
          "output_type": "execute_result",
          "data": {
            "text/plain": [
              "tensor([2, 2, 3, 2, 5, 1, 6], device='cuda:0')"
            ]
          },
          "metadata": {},
          "execution_count": 50
        }
      ]
    },
    {
      "cell_type": "code",
      "metadata": {
        "id": "731ym9HPxi3Z"
      },
      "source": [],
      "execution_count": null,
      "outputs": []
    }
  ]
}